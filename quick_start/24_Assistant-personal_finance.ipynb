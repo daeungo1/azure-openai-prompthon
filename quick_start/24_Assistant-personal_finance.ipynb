{
 "cells": [
  {
   "cell_type": "markdown",
   "metadata": {},
   "source": [
    "# Personal Financial Assistant"
   ]
  },
  {
   "cell_type": "markdown",
   "metadata": {},
   "source": [
    "## Objective\n",
    "\n",
    "This notebook demonstrates the following:\n",
    "\n",
    "- Function Calling with Yfinance to get latest stock prices. Summarization of user provided article. Extract country info from article, extract country, capital and other aspects, and call an API to get more information about each country.\n",
    "\n",
    "This tutorial uses the following Azure AI services:\n",
    "- Access to Azure OpenAI Service - you can apply for access [here](https://aka.ms/oai/access)\n",
    "- Azure OpenAI service - you can create it from instructions [here](https://learn.microsoft.com/en-us/azure/ai-services/openai/how-to/create-resource)\n",
    "- Azure OpenAI Studio - go to [https://oai.azure.com/](https://oai.azure.com/) to work with the Assistants API Playground\n",
    "- A connection to the Azure OpenAI Service with a [Key and Endpoint](https://learn.microsoft.com/en-us/azure/ai-services/openai/chatgpt-quickstart)\n",
    "\n",
    "Reference:\n",
    "- Learn more about how to use Assistants with our [How-to guide on Assistants](https://learn.microsoft.com/en-us/azure/ai-services/openai/how-to/assistant)\n",
    "- [Assistants OpenAI Overview](https://platform.openai.com/docs/assistants/overview)"
   ]
  },
  {
   "cell_type": "markdown",
   "metadata": {},
   "source": [
    "## Time\n",
    "\n",
    "You should expect to spend 10-15 minutes running this sample. "
   ]
  },
  {
   "cell_type": "markdown",
   "metadata": {},
   "source": [
    "## About this example\n",
    "\n",
    "The objective of the provided Python file is to create an Azure OpenAI Assistant named \"Portfolio Management Assistant\" using the Azure OpenAI API. The assistant is designed to act as a personal financial assistant, providing information and insights related to a user's investment portfolio. The script initiates a conversation with the assistant, guiding it through various financial queries and scenarios to showcase its capabilities.\n",
    "\n",
    "### Data\n",
    "This sample uses files from the folder [`data/`](./data/) in this repo. You can clone this repo or copy this folder to make sure you have access to these files when running the sample.\n",
    "\n"
   ]
  },
  {
   "cell_type": "markdown",
   "metadata": {},
   "source": [
    "### Parameters"
   ]
  },
  {
   "cell_type": "code",
   "execution_count": 1,
   "metadata": {},
   "outputs": [],
   "source": [
    "import os\n",
    "\n",
    "from dotenv import load_dotenv\n",
    "\n",
    "load_dotenv()\n",
    "api_endpoint = os.getenv(\"OPENAI_URI\")\n",
    "api_key = os.getenv(\"OPENAI_KEY\")\n",
    "api_version = os.getenv(\"OPENAI_VERSION\")\n",
    "api_deployment_name = os.getenv(\"OPENAI_GPT_DEPLOYMENT\")\n",
    "email_URI = os.getenv(\"EMAIL_URI\")\n",
    "\n",
    "should_cleanup: bool = False"
   ]
  },
  {
   "cell_type": "markdown",
   "metadata": {},
   "source": [
    "## Run this Example"
   ]
  },
  {
   "cell_type": "markdown",
   "metadata": {},
   "source": [
    "### Load the required libraries"
   ]
  },
  {
   "cell_type": "code",
   "execution_count": 2,
   "metadata": {},
   "outputs": [],
   "source": [
    "import html\n",
    "import io\n",
    "import time\n",
    "from datetime import datetime\n",
    "from pathlib import Path\n",
    "from typing import Iterable \n",
    "from PIL import Image\n",
    "import matplotlib.pyplot as plt \n",
    "\n",
    "import requests\n",
    "import yfinance as yf\n",
    "from openai import AzureOpenAI\n",
    "from openai.types import FileObject\n",
    "from openai.types.beta import Thread\n",
    "from openai.types.beta.threads import Run\n",
    "from openai.types.beta.threads.message_content_image_file import MessageContentImageFile\n",
    "from openai.types.beta.threads.message_content_text import MessageContentText\n",
    "from openai.types.beta.threads.messages import MessageFile\n"
   ]
  },
  {
   "cell_type": "markdown",
   "metadata": {},
   "source": [
    "### Create an AzureOpenAI client"
   ]
  },
  {
   "cell_type": "code",
   "execution_count": 3,
   "metadata": {},
   "outputs": [],
   "source": [
    "client = AzureOpenAI(api_key=api_key, api_version=api_version, azure_endpoint=api_endpoint)"
   ]
  },
  {
   "cell_type": "markdown",
   "metadata": {},
   "source": [
    "### Get the latest stock price by ticker symbol using Yahoo Finance"
   ]
  },
  {
   "cell_type": "code",
   "execution_count": 4,
   "metadata": {},
   "outputs": [],
   "source": [
    "def get_stock_price(symbol: str) -> float:\n",
    "    stock = yf.Ticker(symbol)\n",
    "    return stock.history(period=\"1d\")[\"Close\"].iloc[-1]"
   ]
  },
  {
   "cell_type": "markdown",
   "metadata": {},
   "source": [
    "### Send an email using Logic Apps"
   ]
  },
  {
   "cell_type": "code",
   "execution_count": 5,
   "metadata": {},
   "outputs": [],
   "source": [
    "def send_logic_apps_email(to: str, content: str) -> None:\n",
    "    json_payload = {\"to\": to, \"content\": html.unescape(content)}\n",
    "    headers = {\"Content-Type\": \"application/json\"}\n",
    "    response = requests.post(email_URI, json=json_payload, headers=headers)\n",
    "    if response.status_code == 202:\n",
    "        print(\"Email sent to: \" + json_payload[\"to\"])"
   ]
  },
  {
   "cell_type": "markdown",
   "metadata": {},
   "source": [
    "### Define the Assistant tools"
   ]
  },
  {
   "cell_type": "code",
   "execution_count": 6,
   "metadata": {},
   "outputs": [],
   "source": [
    "tools_list = [\n",
    "    {\"type\": \"code_interpreter\"},\n",
    "    {\n",
    "        \"type\": \"function\",\n",
    "        \"function\": {\n",
    "            \"name\": \"get_stock_price\",\n",
    "            \"description\": \"Retrieve the latest closing price of a stock using its ticker symbol.\",\n",
    "            \"parameters\": {\n",
    "                \"type\": \"object\",\n",
    "                \"properties\": {\"symbol\": {\"type\": \"string\", \"description\": \"The ticker symbol of the stock\"}},\n",
    "                \"required\": [\"symbol\"],\n",
    "            },\n",
    "        },\n",
    "    },\n",
    "    {\n",
    "        \"type\": \"function\",\n",
    "        \"function\": {\n",
    "            \"name\": \"send_email\",\n",
    "            \"description\": \"Sends an email to a recipient(s).\",\n",
    "            \"parameters\": {\n",
    "                \"type\": \"object\",\n",
    "                \"properties\": {\n",
    "                    \"to\": {\"type\": \"string\", \"description\": \"The email(s) the email should be sent to.\"},\n",
    "                    \"content\": {\"type\": \"string\", \"description\": \"The content of the email.\"},\n",
    "                },\n",
    "                \"required\": [\"to\", \"content\"],\n",
    "            },\n",
    "        },\n",
    "    },\n",
    "]"
   ]
  },
  {
   "cell_type": "markdown",
   "metadata": {},
   "source": [
    "### Upload the file(s)"
   ]
  },
  {
   "cell_type": "code",
   "execution_count": 7,
   "metadata": {},
   "outputs": [
    {
     "name": "stdout",
     "output_type": "stream",
     "text": [
      "['assistant-eohmyE8K7TnLKov4fzeZNpEh']\n"
     ]
    }
   ],
   "source": [
    "\n",
    "DATA_FOLDER = \"data/\"\n",
    "TARGET_FILE = \"portfolio.csv\"\n",
    "\n",
    "def upload_file(client: AzureOpenAI, path: str) -> FileObject:\n",
    "    with Path(path).open(\"rb\") as f:\n",
    "        return client.files.create(file=f, purpose=\"assistants\")\n",
    "\n",
    "# 파일명으로 검색하여 파일이 존재하는지 확인\n",
    "filePath = os.path.join(DATA_FOLDER, TARGET_FILE)\n",
    "assistant_files = []\n",
    "\n",
    "if os.path.exists(filePath):\n",
    "    assistant_files.append(upload_file(client, filePath))\n",
    "\n",
    "file_ids = [file.id for file in assistant_files]\n",
    "\n",
    "print(file_ids)\n"
   ]
  },
  {
   "cell_type": "markdown",
   "metadata": {},
   "source": [
    "### Create an Assistant and a Thread"
   ]
  },
  {
   "cell_type": "code",
   "execution_count": 8,
   "metadata": {},
   "outputs": [],
   "source": [
    "assistant = client.beta.assistants.create(\n",
    "    name=\"Portfolio Management Assistant\",\n",
    "    instructions=\"You are a personal securities trading assistant. Please be polite, professional, helpful, and friendly. \"\n",
    "    + \"Use the provided portfolio CSV file to answer the questions. If question is not related to the portfolio or you cannot answer the question, say, 'contact a representative for more assistance.'\"\n",
    "    + \"If the user asks for help or says 'help', provide a list of sample questions that you can answer.\",\n",
    "    tools=tools_list,\n",
    "    model=api_deployment_name,\n",
    "    file_ids=file_ids,\n",
    ")\n",
    "\n",
    "thread = client.beta.threads.create()"
   ]
  },
  {
   "cell_type": "markdown",
   "metadata": {},
   "source": [
    "### Process Function calling"
   ]
  },
  {
   "cell_type": "code",
   "execution_count": 9,
   "metadata": {},
   "outputs": [],
   "source": [
    "def call_functions(client: AzureOpenAI, thread: Thread, run: Run) -> None:\n",
    "    print(\"Function Calling\")\n",
    "    required_actions = run.required_action.submit_tool_outputs.model_dump()\n",
    "    print(required_actions)\n",
    "    tool_outputs = []\n",
    "    import json\n",
    "\n",
    "    for action in required_actions[\"tool_calls\"]:\n",
    "        func_name = action[\"function\"][\"name\"]\n",
    "        arguments = json.loads(action[\"function\"][\"arguments\"])\n",
    "\n",
    "        if func_name == \"get_stock_price\":\n",
    "            output = get_stock_price(symbol=arguments[\"symbol\"])\n",
    "            # tool_outputs.append({\"tool_call_id\": action[\"id\"], \"output\": output})\n",
    "            tool_outputs.append({\"tool_call_id\": action[\"id\"], \"output\": str(output)})  # 소수를 문자열로 변환\n",
    "\n",
    "        elif func_name == \"send_email\":\n",
    "            print(\"Sending email...\")\n",
    "            email_to = arguments[\"to\"]\n",
    "            email_content = arguments[\"content\"]\n",
    "            send_logic_apps_email(email_to, email_content)\n",
    "\n",
    "            tool_outputs.append({\"tool_call_id\": action[\"id\"], \"output\": \"Email sent\"})\n",
    "        else:\n",
    "            raise ValueError(f\"Unknown function: {func_name}\")\n",
    "\n",
    "    print(\"Submitting outputs back to the Assistant...\")\n",
    "    client.beta.threads.runs.submit_tool_outputs(thread_id=thread.id, run_id=run.id, tool_outputs=tool_outputs)"
   ]
  },
  {
   "cell_type": "markdown",
   "metadata": {},
   "source": [
    "### Format and display the Assistant Messages for text and images"
   ]
  },
  {
   "cell_type": "code",
   "execution_count": 10,
   "metadata": {},
   "outputs": [],
   "source": [
    " \n",
    "\n",
    "def format_messages(messages: Iterable[MessageFile]) -> None:\n",
    "    message_list = []\n",
    "\n",
    "    # Get all the messages till the last user message\n",
    "    for message in messages:\n",
    "        message_list.append(message)\n",
    "        if message.role == \"user\":\n",
    "            break\n",
    "\n",
    "    # Reverse the messages to show the last user message first\n",
    "    message_list.reverse()\n",
    "\n",
    "    # Print the user or Assistant messages or images\n",
    "    for message in message_list:\n",
    "        for item in message.content:\n",
    "            # Determine the content type\n",
    "            if isinstance(item, MessageContentText):\n",
    "                print(f\"{message.role}:\\n{item.text.value}\\n\")\n",
    "            elif isinstance(item, MessageContentImageFile):\n",
    "                # Retrieve image from file id\n",
    "                response_content = client.files.content(item.image_file.file_id)\n",
    "                data_in_bytes = response_content.read()\n",
    "                # Convert bytes to image\n",
    "                readable_buffer = io.BytesIO(data_in_bytes)\n",
    "                image = Image.open(readable_buffer)\n",
    "                # Resize image to fit in terminal\n",
    "                width, height = image.size\n",
    "                image = image.resize((width // 2, height // 2), Image.LANCZOS)\n",
    "                # Display image using matplotlib\n",
    "                plt.imshow(image)\n",
    "                plt.axis('off')  # Hide axis\n",
    "                plt.show()\n"
   ]
  },
  {
   "cell_type": "markdown",
   "metadata": {},
   "source": [
    "### Process the user messages"
   ]
  },
  {
   "cell_type": "code",
   "execution_count": 11,
   "metadata": {},
   "outputs": [],
   "source": [
    "def process_message(content: str) -> None:\n",
    "    client.beta.threads.messages.create(thread_id=thread.id, role=\"user\", content=content)\n",
    "\n",
    "    run = client.beta.threads.runs.create(\n",
    "        thread_id=thread.id,\n",
    "        assistant_id=assistant.id,\n",
    "        instructions=\"The current date and time is: \" + datetime.now().strftime(\"%x %X\") + \".\",\n",
    "    )\n",
    "\n",
    "    print(\"processing...\")\n",
    "    while True:\n",
    "        run = client.beta.threads.runs.retrieve(thread_id=thread.id, run_id=run.id)\n",
    "        if run.status == \"completed\":\n",
    "            messages = client.beta.threads.messages.list(thread_id=thread.id)\n",
    "            format_messages(messages)             \n",
    "            break\n",
    "        if run.status == \"failed\":\n",
    "            messages = client.beta.threads.messages.list(thread_id=thread.id)\n",
    "            format_messages(messages)\n",
    "            # Handle failed\n",
    "            break\n",
    "        if run.status == \"expired\":\n",
    "            # Handle expired\n",
    "            break\n",
    "        if run.status == \"cancelled\":\n",
    "            # Handle cancelled\n",
    "            break\n",
    "        if run.status == \"requires_action\":\n",
    "            call_functions(client, thread, run)\n",
    "        else:\n",
    "            time.sleep(5)"
   ]
  },
  {
   "cell_type": "markdown",
   "metadata": {},
   "source": [
    "### Have a conversation with the Assistant"
   ]
  },
  {
   "cell_type": "code",
   "execution_count": 12,
   "metadata": {},
   "outputs": [
    {
     "name": "stdout",
     "output_type": "stream",
     "text": [
      "processing...\n",
      "user:\n",
      "Based on the provided portfolio, what investments do I own?\n",
      "\n",
      "assistant:\n",
      "Let's start by examining the contents of the uploaded file to understand what investments you own. I will read the contents of the file and extract the relevant information.\n",
      "\n",
      "assistant:\n",
      "It appears there was an issue determining the format of the file. If this file is not in Excel format, I will try reading it as a CSV file. Let's attempt to read the file in a different format.\n",
      "\n",
      "assistant:\n",
      "The file contains the following columns: `Symbol`, `Average_Cost`, and `QTY`. \n",
      "\n",
      "Based on this information, here are the investments you own:\n",
      "\n",
      "1. Microsoft (MSFT) - 300 shares at an average cost of $200 each\n",
      "2. Apple (AAPL) - 200 shares at an average cost of $114 each\n",
      "3. Amazon (AMZN) - 50 shares at an average cost of $125 each\n",
      "4. Tesla (TSLA) - 100 shares at an average cost of $900 each\n",
      "5. Netflix (NFLX) - 80 shares at an average cost of $540 each\n",
      "\n",
      "If you need any further analysis or information regarding these investments, please let me know!\n",
      "\n"
     ]
    }
   ],
   "source": [
    "process_message(\"Based on the provided portfolio, what investments do I own?\")"
   ]
  },
  {
   "cell_type": "code",
   "execution_count": 13,
   "metadata": {},
   "outputs": [
    {
     "name": "stdout",
     "output_type": "stream",
     "text": [
      "processing...\n",
      "Function Calling\n",
      "{'tool_calls': [{'id': 'call_es3OWeX83cFJnlwXnxoLNeK9', 'function': {'arguments': '{\"symbol\": \"MSFT\"}', 'name': 'get_stock_price'}, 'type': 'function'}, {'id': 'call_u6dEEtbK5VogDuWJXvcwQoKx', 'function': {'arguments': '{\"symbol\": \"AAPL\"}', 'name': 'get_stock_price'}, 'type': 'function'}, {'id': 'call_Uz6PQUUVo1jRVG1mj8i6NobJ', 'function': {'arguments': '{\"symbol\": \"AMZN\"}', 'name': 'get_stock_price'}, 'type': 'function'}, {'id': 'call_isyHk20ilQyf9USHsuAhQIlQ', 'function': {'arguments': '{\"symbol\": \"TSLA\"}', 'name': 'get_stock_price'}, 'type': 'function'}, {'id': 'call_UlnfNMe2NwJM0oKKzEaZq8Pp', 'function': {'arguments': '{\"symbol\": \"NFLX\"}', 'name': 'get_stock_price'}, 'type': 'function'}]}\n",
      "Submitting outputs back to the Assistant...\n",
      "user:\n",
      "What is the value of my portfolio?\n",
      "\n",
      "assistant:\n",
      "To compute the value of your portfolio, we need to obtain the current prices of the stocks you own. After that, we can calculate the value of each investment by multiplying the current price by the quantity (QTY).\n",
      "\n",
      "Let's retrieve the current stock prices for the given symbols (MSFT, AAPL, AMZN, TSLA, NFLX) and then compute the total value of your portfolio.\n",
      "\n",
      "assistant:\n",
      "Here are the current stock prices for your investments:\n",
      "\n",
      "1. Microsoft (MSFT): $449.52\n",
      "2. Apple (AAPL): $234.82\n",
      "3. Amazon (AMZN): $193.02\n",
      "4. Tesla (TSLA): $256.56\n",
      "5. Netflix (NFLX): $656.32\n",
      "\n",
      "Now, let's compute the total value of your portfolio based on these current prices and the quantities you own.\n",
      "\n",
      "assistant:\n",
      "Based on the current stock prices, the total value of your portfolio for each investment is as follows:\n",
      "\n",
      "1. Microsoft (MSFT): $134,856.00\n",
      "2. Apple (AAPL): $46,964.00\n",
      "3. Amazon (AMZN): $9,651.00\n",
      "4. Tesla (TSLA): $25,656.00\n",
      "5. Netflix (NFLX): $52,505.60\n",
      "\n",
      "The total value of your entire portfolio is $269,632.60.\n",
      "\n",
      "Please let me know if you need any further assistance!\n",
      "\n"
     ]
    }
   ],
   "source": [
    "process_message(\"What is the value of my portfolio?\")"
   ]
  },
  {
   "cell_type": "code",
   "execution_count": 14,
   "metadata": {},
   "outputs": [
    {
     "name": "stdout",
     "output_type": "stream",
     "text": [
      "processing...\n",
      "user:\n",
      "What is my best and worst investment?\n",
      "\n",
      "assistant:\n",
      "To determine your best and worst investments, we can analyze the current total value and the cost basis for each investment. We'll compare the gains/losses for each stock by calculating the difference between the current value and the initial investment (average cost times quantity).\n",
      "\n",
      "Let's calculate the gain or loss for each investment to identify the best and worst investments.\n",
      "\n",
      "assistant:\n",
      "Based on the gain or loss calculations, here are your best and worst investments:\n",
      "\n",
      "- **Best Investment:**\n",
      "  - **Microsoft (MSFT)**\n",
      "    - Initial Investment: \\$60,000\n",
      "    - Current Value: \\$134,856.00\n",
      "    - Gain: \\$74,856.00\n",
      "\n",
      "- **Worst Investment:**\n",
      "  - **Tesla (TSLA)**\n",
      "    - Initial Investment: \\$90,000\n",
      "    - Current Value: \\$25,656.00\n",
      "    - Loss: -\\$64,344.00\n",
      "\n",
      "If you need more detailed analysis or further assistance, please let me know!\n",
      "\n"
     ]
    }
   ],
   "source": [
    "process_message(\"What is my best and worst investment?\")"
   ]
  },
  {
   "cell_type": "code",
   "execution_count": 15,
   "metadata": {},
   "outputs": [
    {
     "name": "stdout",
     "output_type": "stream",
     "text": [
      "processing...\n",
      "user:\n",
      "Chart the realized gain or loss of my investments.\n",
      "\n"
     ]
    },
    {
     "data": {
      "image/png": "[encoded data removed]",
      "text/plain": [
       "<Figure size 640x480 with 1 Axes>"
      ]
     },
     "metadata": {},
     "output_type": "display_data"
    },
    {
     "name": "stdout",
     "output_type": "stream",
     "text": [
      "assistant:\n",
      "Here is the chart representing the realized gain or loss for each of your investments:\n",
      "\n",
      "- Green bars indicate a gain.\n",
      "- Red bars indicate a loss.\n",
      "\n",
      "As we can see, Microsoft (MSFT) is your best investment with the highest gain, while Tesla (TSLA) is your worst investment with the largest loss.\n",
      "\n",
      "If you have any further questions or need additional analysis, please let me know!\n",
      "\n"
     ]
    }
   ],
   "source": [
    "process_message(\"Chart the realized gain or loss of my investments.\")"
   ]
  },
  {
   "cell_type": "code",
   "execution_count": 16,
   "metadata": {},
   "outputs": [
    {
     "name": "stdout",
     "output_type": "stream",
     "text": [
      "processing...\n",
      "Function Calling\n",
      "{'tool_calls': [{'id': 'call_crJwgyVipFIlPwOLWTkaR3bo', 'function': {'arguments': '{\"to\":\"daeungo@microsoft.com\",\"content\":\"Dear Daeungo,\\\\n\\\\nPlease find below the detailed report for each stock in your portfolio based on the latest stock prices:\\\\n\\\\n1. Microsoft (MSFT)\\\\n   - Quantity: 300 shares\\\\n   - Average Cost: $200\\\\n   - Current Price: $449.52\\\\n   - Current Value: $134,856.00\\\\n   - Initial Investment: $60,000\\\\n   - Gain: $74,856.00\\\\n\\\\n2. Apple (AAPL)\\\\n   - Quantity: 200 shares\\\\n   - Average Cost: $114\\\\n   - Current Price: $234.82\\\\n   - Current Value: $46,964.00\\\\n   - Initial Investment: $22,800\\\\n   - Gain: $24,164.00\\\\n\\\\n3. Amazon (AMZN)\\\\n   - Quantity: 50 shares\\\\n   - Average Cost: $125\\\\n   - Current Price: $193.02\\\\n   - Current Value: $9,651.00\\\\n   - Initial Investment: $6,250\\\\n   - Gain: $3,401.00\\\\n\\\\n4. Tesla (TSLA)\\\\n   - Quantity: 100 shares\\\\n   - Average Cost: $900\\\\n   - Current Price: $256.56\\\\n   - Current Value: $25,656.00\\\\n   - Initial Investment: $90,000\\\\n   - Loss: -$64,344.00\\\\n\\\\n5. Netflix (NFLX)\\\\n   - Quantity: 80 shares\\\\n   - Average Cost: $540\\\\n   - Current Price: $656.32\\\\n   - Current Value: $52,505.60\\\\n   - Initial Investment: $43,200\\\\n   - Gain: $9,305.60\\\\n\\\\nSummary:\\\\n\\\\n- The best performing stock in your portfolio is Microsoft (MSFT) with a gain of $74,856.00.\\\\n- The worst performing stock in your portfolio is Tesla (TSLA) with a loss of -$64,344.00.\\\\n\\\\nTotal Value of Portfolio: $269,632.60\\\\n\\\\nPlease let me know if you need any further information or assistance.\\\\n\\\\nBest regards,\\\\n[Your Name]\"}', 'name': 'send_email'}, 'type': 'function'}]}\n",
      "Sending email...\n",
      "Email sent to: daeungo@microsoft.com\n",
      "Submitting outputs back to the Assistant...\n",
      "user:\n",
      "Please send a report to daeungo@microsoft.com with the details for each stock based on the latest stock prices, and list the best and worst performing stocks in my portfolio.\n",
      "\n",
      "assistant:\n",
      "The report has been sent to daeungo@microsoft.com with the details for each stock in your portfolio, along with the best and worst performing stocks.\n",
      "\n",
      "If you have any further questions or need additional assistance, please feel free to ask!\n",
      "\n"
     ]
    }
   ],
   "source": [
    "process_message(\n",
    "    \"Please send a report to daeungo@microsoft.com with the details for each stock based on the latest stock prices, and list the best and worst performing stocks in my portfolio.\"\n",
    ")"
   ]
  },
  {
   "cell_type": "markdown",
   "metadata": {},
   "source": [
    "## Cleaning up"
   ]
  },
  {
   "cell_type": "code",
   "execution_count": 17,
   "metadata": {},
   "outputs": [],
   "source": [
    "if should_cleanup:\n",
    "    client.beta.assistants.delete(assistant.id)\n",
    "    client.beta.threads.delete(thread.id)\n",
    "    for file in assistant_files:\n",
    "        client.files.delete(file.id)"
   ]
  },
  {
   "cell_type": "code",
   "execution_count": null,
   "metadata": {},
   "outputs": [],
   "source": []
  }
 ],
 "metadata": {
  "kernelspec": {
   "display_name": "Python 3 (ipykernel)",
   "language": "python",
   "name": "python3"
  },
  "language_info": {
   "codemirror_mode": {
    "name": "ipython",
    "version": 3
   },
   "file_extension": ".py",
   "mimetype": "text/x-python",
   "name": "python",
   "nbconvert_exporter": "python",
   "pygments_lexer": "ipython3",
   "version": "3.8.5"
  }
 },
 "nbformat": 4,
 "nbformat_minor": 4
}
