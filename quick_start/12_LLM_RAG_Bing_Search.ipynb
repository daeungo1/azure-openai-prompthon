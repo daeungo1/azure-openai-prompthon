{
 "cells": [
  {
   "attachments": {},
   "cell_type": "markdown",
   "metadata": {},
   "source": [
    "# Bing Search 기반의 RAG를 활용한 데모\n",
    "\n",
    "이 데모에서는 사용자 쿼리를 분석하고 지식 기반을 사용하여 더 많은 정보를 검색하고 질문에 답변하는 방법을 보여줍니다.  \n",
    "\n",
    "해당 실습을 위해서는 [Bing 리소스](https://portal.azure.com/#blade/HubsExtension/BrowseResourceBlade/resourceType/Microsoft.Bing%2Faccounts)를 만들고 API Key를 [.env](../.env) 파일에 입력해야 합니다. \n",
    "\n",
    "1. Bing Search API 활용: 검색한 결과를 참고하는 방법을 소개합니다. 여기서는 Bing Search API를 활용합니다."
   ]
  },
  {
   "cell_type": "code",
   "execution_count": 14,
   "metadata": {},
   "outputs": [],
   "source": [
    "import os\n",
    "import json\n",
    "import requests\n",
    "from openai import AzureOpenAI\n",
    "from dotenv import load_dotenv\n",
    "load_dotenv()\n",
    "\n",
    "client = AzureOpenAI(\n",
    "    azure_endpoint = os.getenv(\"AZURE_OPENAI_ENDPOINT\",\"\").strip(),\n",
    "    api_key        = os.getenv(\"AZURE_OPENAI_API_KEY\"),\n",
    "    api_version    = os.getenv(\"OPENAI_API_VERSION\")\n",
    ")\n",
    "\n",
    "deployment_name = os.getenv('DEPLOYMENT_NAME')"
   ]
  },
  {
   "cell_type": "markdown",
   "metadata": {},
   "source": [
    "## 1. Bing Search API를 활용하는 방법"
   ]
  },
  {
   "attachments": {},
   "cell_type": "markdown",
   "metadata": {},
   "source": [
    "### Start with a natural question  \n",
    "다음과 같이 LLM이 가지고 있지 않을 수 있는 데이터에 대한 접근이 필요할 때, 검색엔진을 활용할 수 있습니다."
   ]
  },
  {
   "attachments": {},
   "cell_type": "markdown",
   "metadata": {},
   "source": [
    "### Step 1: GPT3: What do I need to to answer this question?"
   ]
  },
  {
   "cell_type": "code",
   "execution_count": 15,
   "metadata": {},
   "outputs": [],
   "source": [
    "# 검색을 위해 필요한 정보를 추출하는 함수 정의\n",
    "def get_search_info(input_query):\n",
    "    system_prompt='''\n",
    "    Answer the following questions as best you can. You have access to the following tools: You can only Korean language.\n",
    "    Web Search: Use the web to find information\n",
    "    Question: Natural language-based questions that users want to ask through web searches\n",
    "    Answer: Describes how to effectively answer people's natural language-based questions and creates optimized search keywords needed for use in the Bing Search API. And create optimized search keywords needed for use in the Bing Search API. The answer format must strictly follow the JSON format below.\n",
    "    {\"Keywords\": \"Specify three sets of keywords information to search for key data that matches the user's question intent.\"}\n",
    "    '''\n",
    "    user_prompt = f'''\n",
    "    Question: {input_query}\n",
    "    '''\n",
    "\n",
    "    # Azure OpenAI GPT를 프롬프트 엔지니어링의 Few-shot 예시\n",
    "    prompt = [{\"role\":\"system\", \"content\":system_prompt},\n",
    "                {\"role\":\"user\", \"content\":\"Question: 2024년 한국 총선 날짜가 언제인지 회사를 안 가도 되는지 알려줘.\"},\n",
    "                {\"role\":\"assistant\", \"content\":\"\"\"{\"Keywords\": \"2024년 한국 총선 날짜 + 2024년 총선 공휴일 여부 + 총선 투표일 휴무 정책\"}\"\"\"},\n",
    "                {\"role\":\"user\",\"content\": user_prompt}\n",
    "            ]\n",
    "        \n",
    "    response = client.chat.completions.create(\n",
    "        model=deployment_name,\n",
    "        messages = prompt,\n",
    "        max_tokens=600,\n",
    "        response_format={\"type\": \"json_object\"}\n",
    "    )\n",
    "\n",
    "    keywords = json.loads(response.choices[0].message.content)['Keywords']\n",
    "    \n",
    "    # 만약 keywords가 list 형태일 경우, '+' 문자로 join하여 반환\n",
    "    if type(keywords) == list:\n",
    "        keywords = ' + '.join(keywords)\n",
    "\n",
    "    return json.loads(response.choices[0].message.content)['Keywords']"
   ]
  },
  {
   "attachments": {},
   "cell_type": "markdown",
   "metadata": {},
   "source": [
    "### Step 2: Search web for more details  \n",
    "\n",
    "Bing Search API와 관련된 정보는 다음 Page에서 확인할 수 있습니다.  \n",
    "https://www.microsoft.com/en-us/bing/apis/bing-web-search-api"
   ]
  },
  {
   "cell_type": "code",
   "execution_count": 16,
   "metadata": {},
   "outputs": [],
   "source": [
    "# Bing search API를 이용하여 검색 결과를 가져오는 함수 정의\n",
    "def get_search_result(keywords):\n",
    "    subscription_key = os.getenv(\"BING_SEARCH_KEY\")\n",
    "    endpoint = os.getenv(\"BING_SEARCH_ENDPOINT\") + \"/v7.0/search\"\n",
    "\n",
    "    query = keywords\n",
    "\n",
    "    # Construct a request\n",
    "    mkt = 'ko_KR'\n",
    "    params = { 'q': query, 'mkt': mkt }\n",
    "    headers = { 'Ocp-Apim-Subscription-Key': subscription_key }\n",
    "\n",
    "    # Call the API\n",
    "    response = requests.get(endpoint, headers=headers, params=params)\n",
    "\n",
    "    context = ''\n",
    "    for result in response.json()['webPages']['value']:\n",
    "        context += result['snippet'] + '\\n'\n",
    "\n",
    "    return context"
   ]
  },
  {
   "cell_type": "code",
   "execution_count": 17,
   "metadata": {},
   "outputs": [],
   "source": [
    "# 검색 결과를 기반으로 사용자의 질문에 대한 답을 생성하는 함수 정의\n",
    "def generate_answer(input_query, context):\n",
    "    system_prompt = \"\"\"You are an agent who answers the user's questions based on the data provided. You can only Korean language.\"\"\"\n",
    "    user_prompt = f\"\"\"Question: {input_query}\n",
    "    Web Search Results: {context}\n",
    "    Answer: \n",
    "    \"\"\"\n",
    "\n",
    "    response = client.chat.completions.create(\n",
    "        model=deployment_name,\n",
    "        messages = [\n",
    "            {\"role\":\"system\", \"content\":system_prompt},\n",
    "            {\"role\":\"user\",\"content\": user_prompt}\n",
    "        ],\n",
    "        max_tokens=600\n",
    "    )\n",
    "\n",
    "    return response.choices[0].message.content"
   ]
  },
  {
   "cell_type": "code",
   "execution_count": 18,
   "metadata": {},
   "outputs": [],
   "source": [
    "# 사용자로부터 검색 질의어를 입력받아서 결과를 출력하는 함수 정의\n",
    "def get_input_query(input_query):\n",
    "    # 검색 질의어 출력\n",
    "    print(\"-\"*80)\n",
    "    print(\"검색질의어: \" + input_query)\n",
    "    print(\"-\"*80)\n",
    "\n",
    "    # 검색 키워드를 추출하는 함수 호출\n",
    "    keywords = get_search_info(input_query)\n",
    "    print(\"검색키워드: \" + keywords)\n",
    "    print(\"-\"*80)\n",
    "\n",
    "    # 검색 결과를 가져오는 함수 호출\n",
    "    context = get_search_result(keywords)\n",
    "    print(\"검색결과: \" + context)\n",
    "    print(\"-\"*80)\n",
    "\n",
    "    # 사용자에게 제공할 답변을 생성하는 함수 호출\n",
    "    answer = generate_answer(input_query, context)\n",
    "    print(\"최종답변: \" + answer)\n",
    "    print(\"-\"*80)"
   ]
  },
  {
   "cell_type": "code",
   "execution_count": 19,
   "metadata": {},
   "outputs": [
    {
     "name": "stdout",
     "output_type": "stream",
     "text": [
      "--------------------------------------------------------------------------------\n",
      "검색질의어: 2024년 '부처님 오신 날'이 언제야? 쉬는 날 맞아? 공휴일이면 대체 휴무는 언제야?\n",
      "--------------------------------------------------------------------------------\n",
      "검색키워드: 2024년 부처님 오신 날 날짜 + 2024년 부처님 오신 날 공휴일 여부 + 2024년 대체공휴일 일정\n",
      "--------------------------------------------------------------------------------\n",
      "검색결과: 부처님 오신 날 2024, 2025 과 2026. 부처님 오신 날은 한국에서 널리 기념하는 공휴일입니다. 휴일은 중국 음력에 따라 네 번째 달의 여덟 번째 일 (日)을 축하됩니다. 이 휴가는 4월 말에서 5월초 사이에 열립니다. 한국에서 부처님 오신 날의 기념은 한국 문화에 영향을 주는 불교의 영향을 강력히 대표합니다. 한국 인구 중 약 20%만이 불교이지만, 부처님 오신 날은 공휴일로 인정되었습니다. 부처님 오신 날은 탄생을 축하하는 것이지만, 불교를 만든 싯다르타의 계몽을 축하는 날이기도 합니다. 한국과 함께, 부처님 오신날은 동남 아시아의 여러 나라에서도 축하합니다.\n",
      "2023년 이전년도 다음년도 2025년도. 2024년 부처님 오신 날. 몇주년 : 불기 2568년. 날짜 : 양력 2024년 5월 15일 수요일. 날짜 : 음력 2024년 4월 8일 수요일. 2024년 불기 (불멸기원:佛滅紀元) 우리나라 남방불기 : 2568년. 남방불기 (BC 544년 또는 BC 533년) : 2568년 또는 2567년. 북방불기 BC 1027년 : 3051년.\n",
      "5월 3일 토요일. 5월 4일 일요일. 5월 5일 월요일 어린이날, 부처님 오신날. 5월 6일 화요일 대체 휴일. 연휴가 길어서 2025년 부처님 오신날에는 가족과 함께 장거리 여행도 즐길 수 있을 것 같습니다.\n",
      "다만 2022년 부처님오신날에는 챔피언결정전 4차전이 열렸다. 2023년 부처님오신날은 공인노무사 1차 시험일이다. 평달인 경우는 5월 30일 부처님 오신날이 1610년 이후 413년째 발생하지 않았으나 윤달인 경우에는 가끔씩 발생한다. (심지어 5월 31일인 경우도 있다!)\n",
      "2024년 5월 27일은 부처님 오신날입니다. 부처님 오신날은 석가모니 부처님의 탄생을 기념하는 날이며, 대한민국에서는 매년 음력 4월 8일에 공휴일로 지정되어 있습니다. 1. 부처님 오신날의 의미. 부처님 오신날은 부처님의 탄생을 축하하는 날이지만, 그저 ...\n",
      "이 날은 불교 신자들에게는 부처님의 탄생일을 기념하는 날이며, 전통적으로 많은 사람들이 가족과 함께 모여 특별한 의식을 갖습니다. 2024년 부처님오신날 휴일 날짜 알아보기. 주요 내용 요약. 부처님오신날은 불교의 중요한 명절 중 하나로, 부처님의 탄생을 기념합니다. 이 날은 가족과 함께 모여 특별한 의식을 갖는 전통이 있습니다. 부처님오신날은 한국의 문화와 종교적 전통을 함께 나누는 소중한 날입니다. 목차. 부처님오신날의 의미. 부처님오신날의 전통적 의식. 가족과 함께하는 부처님오신날. 부처님오신날과 한국의 문화. 부처님오신날의 소중함. 자세한정보는 아래 사이트에서 꼭! 확인하세요. 유용한 정보 모음.\n",
      "2024년 부처님 오신날 관련 행사 안내 👈클릭 . 2024년 부처님 오신날 . 부처님 오신날은 석가모니 부처의 탄생을 기념하는 날로, 한국 불교의 가장 중요한 명절 중 하나입니다. 매년 음력 4월 8일에 지내며, 2024년에는 5월 15일(수) 에 공휴일로 지정됩니다. 1.\n",
      "부처님 오신 날: 다른이름 (사월) 초파일 ((四月) 初八日) 석가탄신일(釋迦誕辰日) 장소: 동아시아: 형태: 공휴일(대한민국, 중화민국, 마카오, 홍콩) 날짜: 음력 4월 8일 (대한민국) 2023년: 5월 27일 (토) 2024년: 5월 15일 (수) 2025년: 5월 5일 (월) 2026년: 5월 24일 (일) 빈도 ...\n",
      "Home » 한국어. 2024년 대한민국 공휴일. 우리는 현재 2024년 공휴일을 목록으로 가지고 있습니다. 공휴일을 확인하시려면 스크롤을 내려주세요. 인기있는 휴일: 부처님 오신 날. 추석. 현충일.\n",
      "부처님 오신 날을 맞이하여 각 사찰에서 거리에 등을 내달고 경내에 수많은 등을 밝히는 등공양 행사를 이어 온다. 1996년 ( 불기 2540년)부터는 연등축제로 이름을 붙이고 동대문 운동장 - 조계사 에 이르는 제등행렬을 비롯하여 불교문화마당, 어울림마당 (연등법회), 대동 (회향)한마당 등 행사가 추가되어 종합적인 축제로 전환하였으며 오늘에 이르고 있다. 같이 보기. 용태영 - 부처님오신날 공휴일 제정 소송을 전개한 변호사. 불기. 석가모니 (싯다르타 고타마) 세계불교도대회.\n",
      "\n",
      "--------------------------------------------------------------------------------\n",
      "최종답변: 2024년 부처님 오신 날은 양력 5월 15일 수요일입니다. 이 날은 대한민국에서 공휴일로 지정되어 있습니다. 대체 휴무는 5월 6일 화요일이며, 연휴로 인해 5월 4일 일요일은 대체 휴일이기도 합니다. 2024년 부처님 오신 날에는 가족과 함께 장거리 여행을 즐기기에 좋은 기회가 될 것입니다.\n",
      "--------------------------------------------------------------------------------\n"
     ]
    }
   ],
   "source": [
    "input_query = \"2024년 '부처님 오신 날'이 언제야? 쉬는 날 맞아? 공휴일이면 대체 휴무는 언제야?\"\n",
    "get_input_query(input_query)"
   ]
  },
  {
   "cell_type": "code",
   "execution_count": 20,
   "metadata": {},
   "outputs": [
    {
     "name": "stdout",
     "output_type": "stream",
     "text": [
      "--------------------------------------------------------------------------------\n",
      "검색질의어: 2024년 추석 연휴는 언제야? 연휴 기간은으로 얼만큼 쉴 수 있을지 알려줘.\n",
      "--------------------------------------------------------------------------------\n",
      "검색키워드: 2024년 추석 연휴 날짜 + 2024년 추석 연휴 기간 + 2024년 추석 연휴 휴가 일수\n",
      "--------------------------------------------------------------------------------\n",
      "검색결과: 2024년 대한민국 공휴일. 우리는 현재 2024년 공휴일을 목록으로 가지고 있습니다. 공휴일을 확인하시려면 스크롤을 내려주세요. 인기있는 휴일: 부처님 오신 날. 추석. 현충일.\n",
      "날짜 요일 공휴일; 2024: 9월 16일 ~ 9월 18일: 월요일 ~ 수요일: 추석: 2025: 10월 5일 ~ 10월 7일: 일요일 ~ 화요일: 추석: 2026: 9월 24일 ~ 9월 27일: 목요일 ~ 일요일: 추석: 이전 연도의 날짜를 보려면 페이지 하단으로 스크롤하십시오.\n",
      "2024년 대한민국 공휴일 연차사용 꿀팁. 신정은 월요일이기 때문에 12월 30일부터 1월 1일까지 총 3일 동안 연휴 기간을 즐길 수 있으며, 2월에는 설날과 설날 다음 덕분에 총 4일 동안 연휴를 즐길 수 있고, 3월 1일 금요일은 삼일절이기 때문에 3월 1일부터 3월 3 ...\n",
      "2024년 설날: 2월 10일 토요일; 2024년 설 연휴: 2월 9일 금요일 – 2월 12일 월요일; 2024년 추석 날짜 2024년-추석. 2024년 추석 날짜는 9월 17일, 화요일입니다. 추석연휴는 주말과 겹치지 않아서 총 5일의 긴 휴일이 가능할 예정이에요. 올 해 추석은 약간 빠른 것 같네요 ...\n",
      "2024년 공휴일과 법정휴일은 총 19일이며 이중 토요일과 일요일은 3일입니다. 2024년 토/일요일을 포함한 총 휴무일은 120일입니다 * 120일 = 104일 + 19일 - 3일. 존재하지 않는 이미지입니다. 따라서 2024년 일하는 근로일수는 246일(366일 - 120일)입니다. ※ 2024년 달력. 존재하지 않는 이미지입니다. ※ 2023년 법정공휴일과 법정휴일. 2023년에는 대체공휴일을 포함한 공휴일은 총 18일이네요. 공휴일, 법정휴일이 16일이고 이중 토요일과 일요일 겹치는 날은 5일입니다.\n",
      "9월 16일~18일 (월,화,수) 추석 연휴. 10월 3일 (목) 개천절. 10월 9일 (수) 한글날. 11월 없음. 12월 25일 (수) 크리스마스. 이제 차근차근 살펴볼게요. 존재하지 않는 이미지입니다. 1월부터 안 좋은 소식. 1일 이후로는 쉬는 날이 아예 쩝,,, 그래도 다들 12월 말 연휴 쫘악 쓰셔서 오랫동안 쉬셨죠?\n",
      "1월. 2월. 3월. 4월. 5월. 6월. 7월. 8월. 9월. 10월. 11월. 12월. 겨울. 봄. 여름. 가을. 한국에서 추석 연휴 다가오는 휴일 날짜. 데이트. 표제. 유형. 국가. 2000. 9. 11. 추석 연휴. 공휴일. 대한민국. 2000. 9. 13. 추석 연휴. 공휴일. 대한민국.\n",
      "2024년 추석 날짜 언제일까? 참고로 2024년 추석 연휴는 9월 14일 토요일부터 18일 수요일까지 총 5일이다. 추석은 9월 17일이며, 월요일부터 추석연휴가 시작되기때문에 대체공휴일은 없다. 2024년 추석 연휴: 9월 14일 - 18일 (총 5일) 2024년-추석-날짜\n",
      "황금연휴 추석! 추석에는 14일부터 18일까지 총 5일의 연휴가 이어집니다. 만약 이틀(19일~20일) 연차를 사용한다면, 9월 14일부터 22일까지 최장 9일의 '황금연휴'를 만들 수 있습니다.\n",
      "휴가기간은 2024년 2월 9일 (금)부터 2024년 2월 11일 (월)까지 총 4일 로 2월 10일이 일요일이라 2월 11일이 대체 공휴일로 지정되었습니다. 2024년 2월 달력 . 네이버 2024년 설날 달력 보기. 2024 설날 달력 : 네이버 통합검색. '2024 설날 달력'의 네이버 통합검색 결과입니다. search.naver.com. 다음 2024년 설날 달력 보기. 2024 설날 달력 – Daum 검색. Daum 검색에서 2024 설날 달력에 대한 최신정보를 찾아보세요. search.daum.net. 2024년 추석연휴 는? 2024년 추석은 9월17일 (화) 입니다.\n",
      "\n",
      "--------------------------------------------------------------------------------\n",
      "최종답변: 2024년 추석 연휴는 9월 16일 월요일부터 18일 수요일까지이며, 총 3일 동안 쉬실 수 있습니다. 혹시 2024년 추석 연휴를 활용하여 좋은 휴식을 취하시기를 바랍니다.\n",
      "--------------------------------------------------------------------------------\n"
     ]
    }
   ],
   "source": [
    "input_query = \"2024년 추석 연휴는 언제야? 연휴 기간은으로 얼만큼 쉴 수 있을지 알려줘.\"\n",
    "get_input_query(input_query)"
   ]
  }
 ],
 "metadata": {
  "kernelspec": {
   "display_name": "azureml_py310_sdkv2",
   "language": "python",
   "name": "python3"
  },
  "language_info": {
   "codemirror_mode": {
    "name": "ipython",
    "version": 3
   },
   "file_extension": ".py",
   "mimetype": "text/x-python",
   "name": "python",
   "nbconvert_exporter": "python",
   "pygments_lexer": "ipython3",
   "version": "3.11.4"
  },
  "orig_nbformat": 4
 },
 "nbformat": 4,
 "nbformat_minor": 2
}
