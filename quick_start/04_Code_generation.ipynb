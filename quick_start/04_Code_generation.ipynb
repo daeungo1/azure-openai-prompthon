{
 "cells": [
  {
   "cell_type": "code",
   "execution_count": 1,
   "metadata": {},
   "outputs": [],
   "source": [
    "import os\n",
    "from openai import AzureOpenAI\n",
    "from dotenv import load_dotenv\n",
    "load_dotenv()\n",
    "\n",
    "client = AzureOpenAI(\n",
    "    azure_endpoint = os.getenv(\"AZURE_OPENAI_ENDPOINT\",\"\"),\n",
    "    api_key        = os.getenv(\"AZURE_OPENAI_API_KEY\"),\n",
    "    api_version    = os.getenv(\"OPENAI_API_VERSION\")\n",
    ")\n",
    "\n",
    "deployment_name    = os.getenv('DEPLOYMENT_NAME')"
   ]
  },
  {
   "cell_type": "code",
   "execution_count": 2,
   "metadata": {},
   "outputs": [
    {
     "name": "stdout",
     "output_type": "stream",
     "text": [
      "```sql\n",
      "SELECT d.name AS department_name\n",
      "FROM Department d\n",
      "WHERE d.id IN (\n",
      "    SELECT e.department_id\n",
      "    FROM Employee e\n",
      "    WHERE e.id IN (\n",
      "        SELECT sp.employee_id\n",
      "        FROM Salary_Payments sp\n",
      "        WHERE sp.date >= CURRENT_DATE - INTERVAL '3 months'\n",
      "    )\n",
      "    GROUP BY e.department_id\n",
      "    HAVING COUNT(e.id) > 10\n",
      ");\n",
      "```\n"
     ]
    }
   ],
   "source": [
    "user_msg = \"\"\"### Postgres SQL tables, with their properties:\n",
    "#\n",
    "# Employee(id, name, department_id)\n",
    "# Department(id, name, address)\n",
    "# Salary_Payments(id, employee_id, amount, date)\n",
    "#\n",
    "### Make a query to list the names of the departments which employed more than 10 employees in the last 3 months.\n",
    "query:\n",
    "\"\"\"\n",
    "\n",
    "# user_msg = \"\"\"### Postgres SQL tables, with their properties:\n",
    "# #\n",
    "# # Employee(id, name, department_id)\n",
    "# # Department(id, name, address)\n",
    "# # Salary_Payments(id, employee_id, amount, date)\n",
    "# #\n",
    "# ### 최근 3 개월간 직원을 10명 이상 뽑은 부서의 이름을 수집하는 쿼리를 만들어줘.\n",
    "# query: \n",
    "# \"\"\"\n",
    "\n",
    "response = client.chat.completions.create(\n",
    "    model=deployment_name,\n",
    "    messages=[\n",
    "        {\"role\": \"system\", \"content\": \"You are a helpful assistant.\"},\n",
    "        {\"role\": \"user\", \"content\": user_msg},\n",
    "    ],\n",
    "  temperature=0,\n",
    "  max_tokens=500\n",
    ")\n",
    "\n",
    "print(response.choices[0].message.content)"
   ]
  },
  {
   "cell_type": "code",
   "execution_count": 3,
   "metadata": {},
   "outputs": [
    {
     "name": "stdout",
     "output_type": "stream",
     "text": [
      "This code is a SQL query that retrieves the names of departments that have more than 10 employees who received a salary payment in the last 3 months.\n",
      "\n",
      "Here's a breakdown of the code:\n",
      "\n",
      "1. The outer query selects the `name` column from the `Department` table (aliased as `d`).\n",
      "2. The `WHERE` clause filters the departments based on their `id`, checking if the department id is present in the subquery result.\n",
      "3. The subquery in the `IN` condition selects the `department_id` from the `Employee` table (aliased as `e`) where the employee's id is present in another subquery result.\n",
      "4. The innermost subquery selects the `employee_id` from the `Salary_Payments` table (aliased as `sp`) where the payment date is within the last 3 months.\n",
      "5. The `GROUP BY` clause groups the employee records by `department_id`.\n",
      "6. The `HAVING` clause filters the grouped results based on the count of employee ids (more than 10 employees per department).\n",
      "\n",
      "Overall, this query retrieves the names of departments that have more than 10 employees who have received a salary payment in the last 3 months\n"
     ]
    }
   ],
   "source": [
    "user_msg = \"\"\"###Can you explain what does this code do? \n",
    "# Code: \n",
    "SELECT d.name\n",
    "FROM Department d\n",
    "WHERE d.id IN (\n",
    "    SELECT e.department_id\n",
    "    FROM Employee e\n",
    "    WHERE e.id IN (\n",
    "        SELECT sp.employee_id\n",
    "        FROM Salary_Payments sp\n",
    "        WHERE sp.date >= current_date - interval '3 months'\n",
    "    )\n",
    "    GROUP BY e.department_id\n",
    "    HAVING COUNT(e.id) > 10\n",
    ")\n",
    "# Answer: \n",
    "\"\"\"\n",
    "\n",
    "# user_msg = \"\"\"###이 코드가 무엇을 수행하는지 설명해줘?\n",
    "# #Code:\n",
    "# SELECT d.name\n",
    "# FROM Department d\n",
    "# WHERE d.id IN (\n",
    "#     SELECT e.department_id\n",
    "#     FROM Employee e\n",
    "#     WHERE e.id IN (\n",
    "#         SELECT sp.employee_id\n",
    "#         FROM Salary_Payments sp\n",
    "#         WHERE sp.date >= current_date - interval '3 months'\n",
    "#     )\n",
    "#     GROUP BY e.department_id\n",
    "#     HAVING COUNT(e.id) > 10\n",
    "# )\n",
    "# Answer:\n",
    "# \"\"\"\n",
    "   \n",
    "response = client.chat.completions.create(\n",
    "    model=deployment_name,\n",
    "    messages=[\n",
    "        {\"role\": \"system\", \"content\": \"You are a helpful assistant.\"},\n",
    "        {\"role\": \"user\", \"content\": user_msg},\n",
    "    ],\n",
    "   max_tokens=250)\n",
    "\n",
    "print(response.choices[0].message.content)"
   ]
  }
 ],
 "metadata": {
  "kernelspec": {
   "display_name": "azureml_py310_sdkv2",
   "language": "python",
   "name": "python3"
  },
  "language_info": {
   "codemirror_mode": {
    "name": "ipython",
    "version": 3
   },
   "file_extension": ".py",
   "mimetype": "text/x-python",
   "name": "python",
   "nbconvert_exporter": "python",
   "pygments_lexer": "ipython3",
   "version": "3.11.4"
  },
  "orig_nbformat": 4,
  "vscode": {
   "interpreter": {
    "hash": "2139c70ac98f3202d028164a545621647e07f47fd6f5d8ac55cf952bf7c15ed1"
   }
  }
 },
 "nbformat": 4,
 "nbformat_minor": 2
}
