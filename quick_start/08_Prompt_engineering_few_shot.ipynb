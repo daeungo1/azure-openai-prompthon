{
 "cells": [
  {
   "cell_type": "code",
   "execution_count": 49,
   "metadata": {},
   "outputs": [],
   "source": [
    "import os\n",
    "from openai import AzureOpenAI\n",
    "import tiktoken\n",
    "from dotenv import load_dotenv\n",
    "load_dotenv()\n",
    "\n",
    "client = AzureOpenAI(\n",
    "    azure_endpoint = os.getenv(\"AZURE_OPENAI_ENDPOINT\",\"\").strip(),\n",
    "    api_key        = os.getenv(\"AZURE_OPENAI_API_KEY\"),\n",
    "    api_version    = os.getenv(\"OPENAI_API_VERSION\")\n",
    ")\n",
    "\n",
    "encoding = tiktoken.encoding_for_model(\"gpt-3.5-turbo\")\n",
    "deployment_name = os.getenv('DEPLOYMENT_NAME')"
   ]
  },
  {
   "cell_type": "markdown",
   "metadata": {},
   "source": [
    "# A Few Shot Learning"
   ]
  },
  {
   "cell_type": "code",
   "execution_count": 50,
   "metadata": {},
   "outputs": [
    {
     "name": "stdout",
     "output_type": "stream",
     "text": [
      "👏,🎉,🌟,😍,👍\n"
     ]
    }
   ],
   "source": [
    "# Zero-shot classification\n",
    "system_prompt =\"\"\"Predict up to 5 emojis as a response to a text chat message. The output\n",
    "should only include emojis.\n",
    "\n",
    "input: The new visual design is blowing my mind 🤯\n",
    "output: ➕,💘, ❤‍🔥\n",
    "\n",
    "input: Well that looks great regardless\n",
    "output: ❤️,🪄\n",
    "\n",
    "input: Unfortunately this won't work\n",
    "output: 💔,😔\n",
    "\n",
    "input: sounds good, I'll look into that\n",
    "output: 🙏,👍\n",
    "\n",
    "input: 10hr cut of jeff goldblum laughing URL\n",
    "output: 😂,💀,⚰️\n",
    "\"\"\"\n",
    "user_prompt = \"The new user interface is amazing!\"\n",
    "response = client.chat.completions.create(\n",
    "    model=deployment_name,\n",
    "    messages = [{\"role\":\"system\", \"content\":system_prompt},\n",
    "                {\"role\":\"user\",\"content\": user_prompt,}])\n",
    "print(response.choices[0].message.content)"
   ]
  },
  {
   "attachments": {},
   "cell_type": "markdown",
   "metadata": {},
   "source": [
    "# Chain of Thought\n",
    "\n",
    "Experiment results demonstrate Zero-shot-CoT using single prompt template, significantly outperform zero-shot LLM performance on diverse benchmark reasoning tasks.  Without any hand-crafted few-shot examples, e.g. increasing the accuracy on MultiArith from 17.7% to 78.7% and GSM8K from 10.4% to 40.7% with large InstructGPT model (text-davinci-002).\n",
    "\n",
    "Source: [Large Language Models are Zero-Shot Reasoners](https://arxiv.org/abs/2205.11916)"
   ]
  },
  {
   "cell_type": "code",
   "execution_count": 51,
   "metadata": {},
   "outputs": [],
   "source": [
    "def call_openai(prompt, temperature=1, max_token=60):\n",
    "    response = client.chat.completions.create(\n",
    "        model=deployment_name,\n",
    "        messages = prompt,\n",
    "            max_tokens=max_token,\n",
    "            temperature = temperature\n",
    "    )\n",
    "    return response.choices[0].message.content"
   ]
  },
  {
   "cell_type": "code",
   "execution_count": 52,
   "metadata": {},
   "outputs": [
    {
     "name": "stdout",
     "output_type": "stream",
     "text": [
      "To find out how many loaves of bread the Beverly Hills Bakery had left, we need to subtract the loaves sold and the unsold loaves from the total number of loaves baked.\n",
      "\n",
      "Total loaves baked: 200\n",
      "Loaves sold in the morning: 93\n",
      "Loaves sold in the afternoon: 39\n",
      "Unsold loaves returned: 6\n",
      "\n",
      "Total loaves sold: 93 + 39 = 132\n",
      "Total loaves returned: 6\n",
      "\n",
      "Total loaves left: 200 - 132 - 6 = 62\n",
      "\n",
      "Therefore, the Beverly Hills Bakery had 62 loaves of bread left.\n"
     ]
    }
   ],
   "source": [
    "# This prompt gets wrong answer - ZERO_SHOT Prompt\n",
    "\n",
    "system_prompt = \"\"\"Answer the following questions:\"\"\"\n",
    "quiz = \"\"\"The bakers at the Beverly Hills Bakery baked 200 loaves of bread on Monday morning.\n",
    "They sold 93 loaves in the morning and 39 loaves in the afternoon.\n",
    "A grocery store returned 6 unsold loaves.\n",
    "How many loaves of bread did they have left?\"\"\"\n",
    "\n",
    "prompt = [\n",
    "    {\"role\": \"system\", \"content\": system_prompt},\n",
    "    {\"role\": \"user\", \"content\": quiz}\n",
    "]\n",
    "\n",
    "response_msg = call_openai(prompt, temperature=0, max_token=200)\n",
    "\n",
    "print(response_msg)"
   ]
  },
  {
   "cell_type": "code",
   "execution_count": 53,
   "metadata": {},
   "outputs": [
    {
     "name": "stdout",
     "output_type": "stream",
     "text": [
      "To find out how many loaves of bread the bakery had left, we need to subtract the loaves sold and the loaves returned from the total loaves baked.\n",
      "\n",
      "Total loaves baked: 200\n",
      "Loaves sold in the morning: 93\n",
      "Loaves sold in the afternoon: 39\n",
      "Loaves returned: 6\n",
      "\n",
      "Total loaves left = 200 - 93 - 39 - 6\n",
      "Total loaves left = 62\n",
      "\n",
      "Therefore, the Beverly Hills Bakery had 62 loaves of bread left.\n"
     ]
    }
   ],
   "source": [
    "# Still wrong answer with few-shot learning\n",
    "\n",
    "prompt=[\n",
    "    {\"role\": \"system\", \"content\": system_prompt},\n",
    "    {\"role\": \"user\", \"content\": \"Q: Roger has 5 tennis balss. He buys 2 more cans of tennis balls. Each can has 3 tennis balls. How many tennis balls does Roger have now?\"},\n",
    "    {\"role\": \"assistant\", \"content\": \"A: The answer is 11.\"},\n",
    "    {\"role\": \"user\", \"content\": quiz}\n",
    "]\n",
    "\n",
    "response_msg = call_openai(prompt, temperature=0, max_token=200)\n",
    "\n",
    "print(response_msg)"
   ]
  },
  {
   "cell_type": "code",
   "execution_count": 60,
   "metadata": {},
   "outputs": [
    {
     "name": "stdout",
     "output_type": "stream",
     "text": [
      "1. The bakers baked 200 loaves of bread on Monday morning.\n",
      "2. They sold 93 loaves in the morning and 39 loaves in the afternoon.\n",
      "3. So, the total loaves sold during the day = 93 + 39 = 132 loaves.\n",
      "4. The number of loaves left after selling = 200 - 132 = 68 loaves.\n",
      "5. A grocery store returned 6 unsold loaves.\n",
      "6. Therefore, the final number of loaves left = 68 + 6 = 74 loaves.\n",
      "\n",
      "So, the Beverly Hills Bakery had 74 loaves of bread left at the end of the day.\n"
     ]
    }
   ],
   "source": [
    "# With CoT, the answer is correct\n",
    "\n",
    "cot_message = \" Understand the sentences well and let’s think step by step.\"\n",
    "\n",
    "prompt=[\n",
    "    {\"role\": \"system\", \"content\": system_prompt},\n",
    "    {\"role\": \"user\", \"content\": quiz + cot_message}\n",
    "]\n",
    "\n",
    "response_msg = call_openai(prompt, temperature=0, max_token=200)\n",
    "\n",
    "print(response_msg)"
   ]
  },
  {
   "cell_type": "code",
   "execution_count": 55,
   "metadata": {},
   "outputs": [
    {
     "name": "stdout",
     "output_type": "stream",
     "text": [
      "Step 1: The bakers baked 200 loaves of bread.\n",
      "Step 2: They sold 93 loaves in the morning and 39 loaves in the afternoon.\n",
      "Step 3: They had 200 - (93 + 39) = 200 - 132 = 68 loaves left.\n",
      "Step 4: The grocery store returned 6 unsold loaves.\n",
      "Step 5: They had 68 + 6 = 74 loaves left.\n",
      "Therefore, they had 74 loaves of bread left.\n"
     ]
    }
   ],
   "source": [
    "# PROMPT_FEW_SHOT_CoT\n",
    "\n",
    "prompt=[\n",
    "    {\"role\": \"system\", \"content\": system_prompt},\n",
    "    {\"role\": \"user\", \"content\": \"\"\"Roger has 5 tennis balls. He buys 2 more cans of tennis balls. Each can has 3 tennis balls. How many tennis balls does he have now?\"\"\"},\n",
    "    {\"role\": \"assistant\", \"content\": \"\"\"Roger started with 5 balls. 2 cans of 3 tennis balls each is 6 tennis balls. 5 + 6 = 11. The answer is 11.\"\"\"},\n",
    "    {\"role\": \"user\", \"content\": quiz + cot_message}\n",
    "]\n",
    "\n",
    "response_msg = call_openai(prompt, temperature=0, max_token=200)\n",
    "\n",
    "print(response_msg)"
   ]
  },
  {
   "attachments": {},
   "cell_type": "markdown",
   "metadata": {},
   "source": [
    "# Commonsense Reasoning\n",
    "\n",
    "Paper: [Generated Knowledge Prompting for Commonsense Reasoning](https://arxiv.org/abs/2110.08387)\n",
    "\n",
    "\n",
    "\n",
    "Provide knowledge, turn knowledge question into reasoning. In general, more knowledge, better result.\n",
    "\n",
    "3 Contributing factors:\n",
    "\n",
    "(i) the quality of knowledge, \n",
    "\n",
    "(ii) the quantity of knowledge where the performance improves with more knowledge statements, and \n",
    "\n",
    "(iii) the strategy for integrating knowledge during inference"
   ]
  },
  {
   "cell_type": "code",
   "execution_count": 56,
   "metadata": {},
   "outputs": [
    {
     "name": "stdout",
     "output_type": "stream",
     "text": [
      "False. In golf, the player with the lowest score wins. The objective is to complete the course with the fewest number of strokes possible.\n"
     ]
    }
   ],
   "source": [
    "common_question = \"\"\"The player with the lowest score wins.\n",
    "Is this true or false: Part of golf is trying to get a higher point total than others.\n",
    "\"\"\"\n",
    "\n",
    "prompt = [\n",
    "    {\"role\": \"system\", \"content\": \"You are a helpful assistant.\"},\n",
    "    {\"role\": \"user\", \"content\": common_question},\n",
    "]\n",
    "\n",
    "response_msg = call_openai(prompt, temperature=0, max_token=100)\n",
    "\n",
    "print(response_msg)"
   ]
  },
  {
   "cell_type": "code",
   "execution_count": 57,
   "metadata": {},
   "outputs": [
    {
     "name": "stdout",
     "output_type": "stream",
     "text": [
      "A tripod is actually a type of camera stand with three legs. An easel, on the other hand, is a stand used for displaying or supporting artwork. Typically, an easel has four legs.\n"
     ]
    }
   ],
   "source": [
    "common_question = \"\"\"A tripod is a kind of easel\n",
    "How many legs does an easel have?\n",
    "\"\"\"\n",
    "prompt = [\n",
    "    {\"role\": \"system\", \"content\": \"You are a helpful assistant.\"},\n",
    "    {\"role\": \"user\", \"content\": common_question},\n",
    "]\n",
    "\n",
    "response_msg = call_openai(prompt, temperature=0, max_token=100)\n",
    "\n",
    "print(response_msg)"
   ]
  },
  {
   "attachments": {},
   "cell_type": "markdown",
   "metadata": {},
   "source": [
    "## Check out follow 2 examples"
   ]
  },
  {
   "cell_type": "code",
   "execution_count": 58,
   "metadata": {},
   "outputs": [
    {
     "name": "stdout",
     "output_type": "stream",
     "text": [
      "No, the statement is incorrect. In golf, the objective is to play a set of holes in the least number of strokes possible. The goal is to have the lowest score, not a higher point total than others. Each stroke is counted as one point, and the player with the fewest total strokes at the end of the round is the winner.\n"
     ]
    }
   ],
   "source": [
    "# High confidence answer\n",
    "common_question = \"\"\"Question: Part of golf is trying to get a higher point total than others. Yes or No?\n",
    "Knowledge: The objective of golf is to play a set of holes in the least number of strokes. A round of golf typically consists of 18 holes. Each hole is played once in the round on a standard golf course. Each stroke is counted as one point, and the total number of strokes is used to determine the winner of the game.\n",
    "Explain and Answer: \n",
    "\"\"\"\n",
    "prompt=[\n",
    "    {\"role\": \"system\", \"content\": \"You are a helpful assistant.\"},\n",
    "    {\"role\": \"user\", \"content\": common_question},\n",
    "]\n",
    "\n",
    "response_msg = call_openai(prompt, temperature=0, max_token=100)\n",
    "\n",
    "print(response_msg)"
   ]
  },
  {
   "cell_type": "code",
   "execution_count": 59,
   "metadata": {},
   "outputs": [
    {
     "name": "stdout",
     "output_type": "stream",
     "text": [
      "No, that statement is incorrect. In golf, the goal is to have the lowest score possible by completing each hole in the fewest number of strokes. The player with the lowest total score at the end of the game is the winner. So, in golf, the objective is to have a lower score than others, not a higher point total.\n"
     ]
    }
   ],
   "source": [
    "# Low confidence answer. 예문을 더 애매하게 바꿔야... 잘못된 결과가 나올것 같은데... 정상으로 나옴.\n",
    "common_question = \"\"\"Question: Part of golf is trying to get a higher point total than others. Yes or No?\n",
    "Knowledge: Golf is a precision club-and-ball sport in which competing players (or golfers) use several types of clubs to hit a ball into a series of holes on a course using the fewest number of strokes. A goal is highest rated with the lowest score calculated by adding up the total number of strokes taken on each hole. The player with the lowest score wins the game.\n",
    "Explain and Answer: \n",
    "\"\"\"\n",
    "prompt=[\n",
    "    {\"role\": \"system\", \"content\": \"You are a helpful assistant.\"},\n",
    "    {\"role\": \"user\", \"content\": common_question},\n",
    "]\n",
    "\n",
    "response_msg = call_openai(prompt, temperature=0, max_token=100)\n",
    "\n",
    "print(response_msg)"
   ]
  }
 ],
 "metadata": {
  "kernelspec": {
   "display_name": "azureml_py38",
   "language": "python",
   "name": "python3"
  },
  "language_info": {
   "codemirror_mode": {
    "name": "ipython",
    "version": 3
   },
   "file_extension": ".py",
   "mimetype": "text/x-python",
   "name": "python",
   "nbconvert_exporter": "python",
   "pygments_lexer": "ipython3",
   "version": "3.11.4"
  },
  "orig_nbformat": 4,
  "vscode": {
   "interpreter": {
    "hash": "6d65a8c07f5b6469e0fc613f182488c0dccce05038bbda39e5ac9075c0454d11"
   }
  }
 },
 "nbformat": 4,
 "nbformat_minor": 2
}
