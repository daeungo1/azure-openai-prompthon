{
 "cells": [
  {
   "cell_type": "markdown",
   "metadata": {},
   "source": [
    "# Failed Banks Information Assistant"
   ]
  },
  {
   "cell_type": "markdown",
   "metadata": {},
   "source": [
    "## Objective\n",
    "\n",
    "This notebook demonstrates the following:\n",
    "\n",
    "- Using Assistant tools Code Interpreter and Function calling, this bot can get a CSV file, gather a list of failed banks by state, and generate a chart to visually represent the data.\n",
    "\n",
    "This tutorial uses the following Azure AI services:\n",
    "- Access to Azure OpenAI Service - you can apply for access [here](https://aka.ms/oai/access)\n",
    "- Azure OpenAI service - you can create it from instructions [here](https://learn.microsoft.com/en-us/azure/ai-services/openai/how-to/create-resource)\n",
    "- Azure OpenAI Studio - go to [https://oai.azure.com/](https://oai.azure.com/) to work with the Assistants API Playground\n",
    "- A connection to the Azure OpenAI Service with a [Key and Endpoint](https://learn.microsoft.com/en-us/azure/ai-services/openai/chatgpt-quickstart)\n",
    "\n",
    "Reference:\n",
    "- Learn more about how to use Assistants with our [How-to guide on Assistants](https://learn.microsoft.com/en-us/azure/ai-services/openai/how-to/assistant).\n",
    "- [Assistants OpenAI Overview](https://platform.openai.com/docs/assistants/overview)\n"
   ]
  },
  {
   "cell_type": "markdown",
   "metadata": {},
   "source": [
    "## Time\n",
    "\n",
    "You should expect to spend 5-10 minutes running this sample. "
   ]
  },
  {
   "cell_type": "markdown",
   "metadata": {},
   "source": [
    "## About this example\n",
    "\n",
    "This sample demonstrates the creation of an Azure OpenAI Assistant named \"Failed Banks Assistant\" through the Azure OpenAI API. The assistant is tailored to aid users in retrieving information about failed banks from a CSV file, the assistant efficiently processes user messages, interacts with the designated file, and promptly delivers pertinent information in response.\n",
    "\n",
    "### Data\n",
    "This sample uses files from the folder [`data/`](./data/) in this repo. You can clone this repo or copy this folder to make sure you have access to these files when running the sample."
   ]
  },
  {
   "cell_type": "markdown",
   "metadata": {},
   "source": [
    "## Before you begin\n",
    "\n"
   ]
  },
  {
   "cell_type": "markdown",
   "metadata": {},
   "source": [
    "### Installation\n",
    "\n",
    "Install the following packages required to execute this notebook. \n",
    "\n"
   ]
  },
  {
   "cell_type": "code",
   "execution_count": null,
   "metadata": {},
   "outputs": [],
   "source": [
    "# Install the packages\n",
    "# %pip install -r ../requirements.txt"
   ]
  },
  {
   "cell_type": "markdown",
   "metadata": {},
   "source": [
    "### Parameters"
   ]
  },
  {
   "cell_type": "code",
   "execution_count": 41,
   "metadata": {},
   "outputs": [],
   "source": [
    "import os\n",
    "\n",
    "from dotenv import load_dotenv\n",
    "\n",
    "load_dotenv()\n",
    "\n",
    "api_endpoint = os.getenv(\"OPENAI_URI\")\n",
    "api_key = os.getenv(\"OPENAI_KEY\")\n",
    "api_version = os.getenv(\"OPENAI_VERSION\")\n",
    "api_deployment_name = os.getenv(\"OPENAI_GPT_DEPLOYMENT\")\n",
    "email_URI = os.getenv(\"EMAIL_URI\")\n",
    "\n",
    "should_cleanup: bool = False"
   ]
  },
  {
   "cell_type": "code",
   "execution_count": 42,
   "metadata": {},
   "outputs": [
    {
     "data": {
      "text/plain": [
       "'gpt-4o'"
      ]
     },
     "execution_count": 42,
     "metadata": {},
     "output_type": "execute_result"
    }
   ],
   "source": [
    "api_deployment_name"
   ]
  },
  {
   "cell_type": "markdown",
   "metadata": {},
   "source": [
    "## Run this Example"
   ]
  },
  {
   "cell_type": "markdown",
   "metadata": {},
   "source": [
    "### Load the required libraries"
   ]
  },
  {
   "cell_type": "code",
   "execution_count": 43,
   "metadata": {},
   "outputs": [],
   "source": [
    "import io\n",
    "import time\n",
    "from datetime import datetime\n",
    "from pathlib import Path\n",
    "from typing import Iterable\n",
    "\n",
    "from openai import AzureOpenAI\n",
    "from openai.types import FileObject\n",
    "from openai.types.beta.threads.message_content_image_file import MessageContentImageFile\n",
    "from openai.types.beta.threads.message_content_text import MessageContentText\n",
    "from openai.types.beta.threads.messages import MessageFile\n",
    "from PIL import Image"
   ]
  },
  {
   "cell_type": "markdown",
   "metadata": {},
   "source": [
    "### Create an AzureOpenAI client"
   ]
  },
  {
   "cell_type": "code",
   "execution_count": 44,
   "metadata": {},
   "outputs": [],
   "source": [
    "client = AzureOpenAI(api_key=api_key, api_version=api_version, azure_endpoint=api_endpoint)"
   ]
  },
  {
   "cell_type": "markdown",
   "metadata": {},
   "source": [
    "### Prepare the tools for function calling"
   ]
  },
  {
   "cell_type": "code",
   "execution_count": 45,
   "metadata": {},
   "outputs": [],
   "source": [
    "tools_list = [\n",
    "    {\"type\": \"code_interpreter\"},\n",
    "]"
   ]
  },
  {
   "cell_type": "code",
   "execution_count": 46,
   "metadata": {},
   "outputs": [],
   "source": [
    "# DATA_FOLDER = \"data/\"\n",
    "\n",
    "\n",
    "# def upload_file(client: AzureOpenAI, path: str) -> FileObject:\n",
    "#     with Path(path).open(\"rb\") as f:\n",
    "#         return client.files.create(file=f, purpose=\"assistants\")\n",
    "\n",
    "\n",
    "# arr = os.listdir(DATA_FOLDER)\n",
    "# assistant_files = []\n",
    "# for file in arr:\n",
    "#     filePath = DATA_FOLDER + file\n",
    "#     assistant_files.append(upload_file(client, filePath))\n",
    "\n",
    "# file_ids = [file.id for file in assistant_files]"
   ]
  },
  {
   "cell_type": "code",
   "execution_count": 47,
   "metadata": {},
   "outputs": [
    {
     "name": "stdout",
     "output_type": "stream",
     "text": [
      "['assistant-UnQcMkyhIeFlSu8FzEeG7RFT']\n"
     ]
    }
   ],
   "source": [
    "import os\n",
    "from pathlib import Path \n",
    "\n",
    "DATA_FOLDER = \"data/\"\n",
    "TARGET_FILE = \"failed_banks.csv\"\n",
    "\n",
    "def upload_file(client: AzureOpenAI, path: str) -> FileObject:\n",
    "    with Path(path).open(\"rb\") as f:\n",
    "        return client.files.create(file=f, purpose=\"assistants\")\n",
    "\n",
    "# 파일명으로 검색하여 파일이 존재하는지 확인\n",
    "filePath = os.path.join(DATA_FOLDER, TARGET_FILE)\n",
    "assistant_files = []\n",
    "\n",
    "if os.path.exists(filePath):\n",
    "    assistant_files.append(upload_file(client, filePath))\n",
    "\n",
    "file_ids = [file.id for file in assistant_files]\n",
    "\n",
    "print(file_ids)\n"
   ]
  },
  {
   "cell_type": "code",
   "execution_count": 56,
   "metadata": {},
   "outputs": [],
   "source": [
    "assistant = client.beta.assistants.create(\n",
    "    name=\"Failed Banks Assistant\",\n",
    "    instructions=\"You are an assistant that can help find information about failed banks. \"\n",
    "    + \"Use the provided file only.\",\n",
    "    tools=tools_list,\n",
    "    model=api_deployment_name,\n",
    "    file_ids=file_ids,\n",
    ")\n",
    "\n",
    "thread = client.beta.threads.create()"
   ]
  },
  {
   "cell_type": "code",
   "execution_count": 57,
   "metadata": {},
   "outputs": [],
   "source": [
    "# def format_messages(messages: Iterable[MessageFile]) -> None:\n",
    "#     message_list = []\n",
    "\n",
    "#     # Get all the messages till the last user message\n",
    "#     for message in messages:\n",
    "#         message_list.append(message)\n",
    "#         if message.role == \"user\":\n",
    "#             break\n",
    "\n",
    "#     # Reverse the messages to show the last user message first\n",
    "#     message_list.reverse()\n",
    "\n",
    "#     # Print the user or Assistant messages or images\n",
    "#     for message in message_list:\n",
    "#         for item in message.content:\n",
    "#             # Determine the content type\n",
    "#             if isinstance(item, MessageContentText):\n",
    "#                 print(f\"{message.role}:\\n{item.text.value}\\n\")\n",
    "#             elif isinstance(item, MessageContentImageFile):\n",
    "#                 # Retrieve image from file id\n",
    "#                 response_content = client.files.content(item.image_file.file_id)\n",
    "#                 data_in_bytes = response_content.read()\n",
    "#                 # Convert bytes to image\n",
    "#                 readable_buffer = io.BytesIO(data_in_bytes)\n",
    "#                 image = Image.open(readable_buffer)\n",
    "#                 # Resize image to fit in terminal\n",
    "#                 width, height = image.size\n",
    "#                 image = image.resize((width // 2, height // 2), Image.LANCZOS)\n",
    "#                 # Display image\n",
    "#                 image.show()"
   ]
  },
  {
   "cell_type": "code",
   "execution_count": 58,
   "metadata": {},
   "outputs": [],
   "source": [
    "import io\n",
    "from typing import Iterable\n",
    "from PIL import Image\n",
    "import matplotlib.pyplot as plt\n",
    "\n",
    "def format_messages(messages: Iterable[MessageFile]) -> None:\n",
    "    message_list = []\n",
    "\n",
    "    # Get all the messages till the last user message\n",
    "    for message in messages:\n",
    "        message_list.append(message)\n",
    "        if message.role == \"user\":\n",
    "            break\n",
    "\n",
    "    # Reverse the messages to show the last user message first\n",
    "    message_list.reverse()\n",
    "\n",
    "    # Print the user or Assistant messages or images\n",
    "    for message in message_list:\n",
    "        for item in message.content:\n",
    "            # Determine the content type\n",
    "            if isinstance(item, MessageContentText):\n",
    "                print(f\"{message.role}:\\n{item.text.value}\\n\")\n",
    "            elif isinstance(item, MessageContentImageFile):\n",
    "                # Retrieve image from file id\n",
    "                response_content = client.files.content(item.image_file.file_id)\n",
    "                data_in_bytes = response_content.read()\n",
    "                # Convert bytes to image\n",
    "                readable_buffer = io.BytesIO(data_in_bytes)\n",
    "                image = Image.open(readable_buffer)\n",
    "                # Resize image to fit in terminal\n",
    "                width, height = image.size\n",
    "                image = image.resize((width // 2, height // 2), Image.LANCZOS)\n",
    "                # Display image using matplotlib\n",
    "                plt.imshow(image)\n",
    "                plt.axis('off')  # Hide axis\n",
    "                plt.show()\n"
   ]
  },
  {
   "cell_type": "code",
   "execution_count": 59,
   "metadata": {},
   "outputs": [],
   "source": [
    "def process_message(content: str) -> None:\n",
    "    client.beta.threads.messages.create(thread_id=thread.id, role=\"user\", content=content)\n",
    "\n",
    "    run = client.beta.threads.runs.create(\n",
    "        thread_id=thread.id,\n",
    "        assistant_id=assistant.id,\n",
    "        instructions=\"The current date and time is: \" + datetime.now().strftime(\"%x %X\") + \".\",\n",
    "    )\n",
    "\n",
    "    print(\"processing...\")\n",
    "    while True:\n",
    "        run = client.beta.threads.runs.retrieve(thread_id=thread.id, run_id=run.id)\n",
    "        if run.status == \"completed\":\n",
    "            messages = client.beta.threads.messages.list(thread_id=thread.id)\n",
    "            format_messages(messages)\n",
    "            break\n",
    "        if run.status == \"failed\":\n",
    "            messages = client.beta.threads.messages.list(thread_id=thread.id)\n",
    "            format_messages(messages)\n",
    "            # Handle failed\n",
    "            break\n",
    "        if run.status == \"expired\":\n",
    "            # Handle expired\n",
    "            break\n",
    "        if run.status == \"cancelled\":\n",
    "            # Handle cancelled\n",
    "            break\n",
    "        if run.status == \"requires_action\":\n",
    "            pass\n",
    "        else:\n",
    "            # print(\"in progress...\",run.status)\n",
    "            time.sleep(5)"
   ]
  },
  {
   "cell_type": "markdown",
   "metadata": {},
   "source": [
    "### Process user requests"
   ]
  },
  {
   "cell_type": "code",
   "execution_count": 60,
   "metadata": {},
   "outputs": [
    {
     "name": "stdout",
     "output_type": "stream",
     "text": [
      "processing...\n",
      "user:\n",
      "Create a chart of failed banks by state.\n",
      "\n",
      "assistant:\n",
      "To create a chart of failed banks by state, we'll first need to load and inspect the contents of the uploaded file. This will help us understand its structure and identify the relevant columns for our analysis.\n",
      "\n",
      "Let's begin by loading and examining the file.\n",
      "\n",
      "assistant:\n",
      "The data consists of several columns including `Bank Name`, `City`, `State`, `Cert`, `Acquiring Institution`, `Closing Date`, and `Fund`. For our purposes, we are interested in the `State` column to count the number of failed banks by state.\n",
      "\n",
      "Let's proceed by creating a chart that shows the number of failed banks by state.\n",
      "\n",
      "assistant:\n",
      "It appears that the column name `State` includes some extra whitespace or special characters. We'll need to clean up the column names before proceeding with the analysis. Let's rename the columns and then try plotting the chart again.\n",
      "\n"
     ]
    },
    {
     "data": {
      "image/png": "[encoded data removed]",
      "text/plain": [
       "<Figure size 640x480 with 1 Axes>"
      ]
     },
     "metadata": {},
     "output_type": "display_data"
    },
    {
     "name": "stdout",
     "output_type": "stream",
     "text": [
      "assistant:\n",
      "Here is the chart showing the number of failed banks by state. \n",
      "\n",
      "Would you like any additional analysis or information?\n",
      "\n"
     ]
    }
   ],
   "source": [
    "process_message(\"Create a chart of failed banks by state.\")"
   ]
  },
  {
   "cell_type": "code",
   "execution_count": 61,
   "metadata": {},
   "outputs": [
    {
     "name": "stdout",
     "output_type": "stream",
     "text": [
      "processing...\n",
      "user:\n",
      "What was the last bank to fail?\n",
      "\n",
      "assistant:\n",
      "It seems there's an extra space in the \"Closing Date\" column name as well. Let's clean up this column name and then find the most recent failed bank again.\n",
      "\n",
      "assistant:\n",
      "The most recent bank to fail was:\n",
      "\n",
      "- **Bank Name:** Citizens Bank\n",
      "- **City:** Sac City\n",
      "- **State:** IA (Iowa)\n",
      "- **Acquiring Institution:** Iowa Trust & Savings Bank\n",
      "- **Closing Date:** November 3, 2023\n",
      "\n",
      "If you need any further analysis or details, please let me know!\n",
      "\n"
     ]
    }
   ],
   "source": [
    "process_message(\"What was the last bank to fail?\")"
   ]
  },
  {
   "cell_type": "code",
   "execution_count": 62,
   "metadata": {},
   "outputs": [
    {
     "name": "stdout",
     "output_type": "stream",
     "text": [
      "processing...\n",
      "user:\n",
      "Which state has the most bank failures?\n",
      "\n",
      "assistant:\n",
      "The state with the most bank failures is Georgia (GA), with a total of 93 bank failures.\n",
      "\n",
      "If you have any further questions or need additional analysis, please let me know!\n",
      "\n"
     ]
    }
   ],
   "source": [
    "process_message(\"Which state has the most bank failures?\")"
   ]
  },
  {
   "cell_type": "code",
   "execution_count": 63,
   "metadata": {},
   "outputs": [
    {
     "name": "stdout",
     "output_type": "stream",
     "text": [
      "processing...\n",
      "user:\n",
      "Which banks failed in Florida in between 2020-2023?\n",
      "\n",
      "assistant:\n",
      "The bank that failed in Florida between 2020 and 2023 is:\n",
      "\n",
      "- **Bank Name:** First City Bank of Florida\n",
      "- **City:** Fort Walton Beach\n",
      "- **Closing Date:** October 16, 2020\n",
      "\n",
      "If you need any more information or further analysis, please let me know!\n",
      "\n"
     ]
    }
   ],
   "source": [
    "process_message(\"Which banks failed in Florida in between 2020-2023?\")"
   ]
  },
  {
   "cell_type": "markdown",
   "metadata": {},
   "source": [
    "## Cleaning up\n"
   ]
  },
  {
   "cell_type": "code",
   "execution_count": 64,
   "metadata": {},
   "outputs": [],
   "source": [
    "if should_cleanup:\n",
    "    client.beta.assistants.delete(assistant.id)\n",
    "    client.beta.threads.delete(thread.id)\n",
    "    for file in assistant_files:\n",
    "        client.files.delete(file.id)"
   ]
  },
  {
   "cell_type": "code",
   "execution_count": null,
   "metadata": {},
   "outputs": [],
   "source": []
  }
 ],
 "metadata": {
  "kernelspec": {
   "display_name": "Python 3.10 - SDK v2",
   "language": "python",
   "name": "python310-sdkv2"
  },
  "language_info": {
   "codemirror_mode": {
    "name": "ipython",
    "version": 3
   },
   "file_extension": ".py",
   "mimetype": "text/x-python",
   "name": "python",
   "nbconvert_exporter": "python",
   "pygments_lexer": "ipython3",
   "version": "3.10.11"
  }
 },
 "nbformat": 4,
 "nbformat_minor": 4
}
